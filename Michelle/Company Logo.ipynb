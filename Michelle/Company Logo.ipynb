{
 "cells": [
  {
   "cell_type": "markdown",
   "metadata": {},
   "source": [
    "Link: https://www.hackerrank.com/challenges/most-commons/problem"
   ]
  },
  {
   "cell_type": "markdown",
   "metadata": {},
   "source": [
    "Kristina Zhou, Week of 11/30"
   ]
  },
  {
   "cell_type": "code",
   "execution_count": 2,
   "metadata": {},
   "outputs": [
    {
     "name": "stdout",
     "output_type": "stream",
     "text": [
      "aaabbbccc\n",
      "a 3\n",
      "b 3\n",
      "c 3\n"
     ]
    }
   ],
   "source": [
    "import math\n",
    "import os\n",
    "import random\n",
    "import re\n",
    "import sys\n",
    "\n",
    "\n",
    "\n",
    "if __name__ == '__main__':\n",
    "    s = input()\n",
    "    dict_freq = {}\n",
    "    for letter in s:\n",
    "        if (letter in dict_freq):\n",
    "            dict_freq[letter] += 1\n",
    "        else:\n",
    "            dict_freq[letter] = 1\n",
    "    most = []\n",
    "    most.append([-1, ''])\n",
    "    most.append([-1, ''])\n",
    "    most.append([-1, ''])\n",
    "    for letter in dict_freq:\n",
    "        if (dict_freq[letter] > most[2][0]):\n",
    "            most[0][0] = most[1][0]\n",
    "            most[1][0] = most[2][0]\n",
    "            most[2][0] = dict_freq[letter]\n",
    "            most[0][1] = most[1][1]\n",
    "            most[1][1] = most[2][1]\n",
    "            most[2][1] = letter\n",
    "        elif (dict_freq[letter] is most[2][0] and letter < most[2][1]):\n",
    "            most[0][0] = most[1][0]\n",
    "            most[1][0] = most[2][0]\n",
    "            most[2][0] = dict_freq[letter]\n",
    "            most[0][1] = most[1][1]\n",
    "            most[1][1] = most[2][1]\n",
    "            most[2][1] = letter\n",
    "        elif (dict_freq[letter] > most[1][0]):\n",
    "            most[0][0] = most[1][0]\n",
    "            most[1][0] = dict_freq[letter]\n",
    "            most[0][1] = most[1][1]\n",
    "            most[1][1] = letter\n",
    "        elif (dict_freq[letter] is most[1][0] and letter < most[1][1]):\n",
    "            most[0][0] = most[1][0]\n",
    "            most[1][0] = dict_freq[letter]\n",
    "            most[0][1] = most[1][1]\n",
    "            most[1][1] = letter\n",
    "        elif (dict_freq[letter] > most[0][0]):\n",
    "            most[0][0] = dict_freq[letter]\n",
    "            most[0][1] = letter\n",
    "        elif (dict_freq[letter] is most[0][0] and letter < most[0][1]):\n",
    "            most[0][0] = dict_freq[letter]\n",
    "            most[0][1] = letter\n",
    "    print(most[2][1], most[2][0])\n",
    "    print(most[1][1], most[1][0])\n",
    "    print(most[0][1], most[0][0])"
   ]
  },
  {
   "cell_type": "code",
   "execution_count": null,
   "metadata": {},
   "outputs": [],
   "source": []
  }
 ],
 "metadata": {
  "kernelspec": {
   "display_name": "Python 3",
   "language": "python",
   "name": "python3"
  },
  "language_info": {
   "codemirror_mode": {
    "name": "ipython",
    "version": 3
   },
   "file_extension": ".py",
   "mimetype": "text/x-python",
   "name": "python",
   "nbconvert_exporter": "python",
   "pygments_lexer": "ipython3",
   "version": "3.8.5"
  }
 },
 "nbformat": 4,
 "nbformat_minor": 4
}
