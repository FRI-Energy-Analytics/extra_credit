{
 "cells": [
  {
   "cell_type": "markdown",
   "metadata": {},
   "source": [
    "Prompt: https://www.hackerrank.com/challenges/balanced-brackets/problem"
   ]
  },
  {
   "cell_type": "code",
   "execution_count": 41,
   "metadata": {},
   "outputs": [],
   "source": [
    "def isBalanced(s):\n",
    "    input = s.split()\n",
    "    num_times = int(input[0])\n",
    "    for i in range (1,num_times+1):\n",
    "        balanced = True\n",
    "        brackets = input[i]\n",
    "        if(len(brackets) % 2 != 0):\n",
    "            balanced = False\n",
    "        for j in range(0, int(len(brackets)/2)):\n",
    "            backwards = -1 * (j+1)\n",
    "            if(brackets[j] == \"(\"):\n",
    "                if(brackets[backwards] != \")\"):\n",
    "                    balanced = False\n",
    "            if(brackets[j] == \"[\"):\n",
    "                if(brackets[backwards] != \"]\"):\n",
    "                    balanced = False\n",
    "            if(brackets[j] == \"{\"):\n",
    "                if(brackets[backwards] != \"}\"):\n",
    "                    balanced = False\n",
    "        if(balanced):\n",
    "            print('YES')\n",
    "        else:\n",
    "            print('NO')"
   ]
  },
  {
   "cell_type": "code",
   "execution_count": 42,
   "metadata": {},
   "outputs": [
    {
     "name": "stdout",
     "output_type": "stream",
     "text": [
      "YES\n",
      "NO\n",
      "YES\n"
     ]
    }
   ],
   "source": [
    "isBalanced(\"3 {[()]} {[(])} {{[[(())]]}}\")"
   ]
  },
  {
   "cell_type": "code",
   "execution_count": 43,
   "metadata": {},
   "outputs": [],
   "source": [
    "# more efficient method - stops immediately when it comes across a wrong pairing\n",
    "def isBalanced2(s):\n",
    "    input = s.split()\n",
    "    num_times = int(input[0])\n",
    "    for i in range (1,num_times+1):\n",
    "        balanced = True\n",
    "        brackets = input[i]\n",
    "        if(len(brackets) % 2 != 0):\n",
    "            balanced = False\n",
    "        j = 0\n",
    "        while(balanced and j < int(len(brackets)/2)):\n",
    "            backwards = -1 * (j+1)\n",
    "            if(brackets[j] == \"(\"):\n",
    "                if(brackets[backwards] != \")\"):\n",
    "                    balanced = False\n",
    "            if(brackets[j] == \"[\"):\n",
    "                if(brackets[backwards] != \"]\"):\n",
    "                    balanced = False\n",
    "            if(brackets[j] == \"{\"):\n",
    "                if(brackets[backwards] != \"}\"):\n",
    "                    balanced = False\n",
    "            j += 1\n",
    "        if(balanced):\n",
    "            print('YES')\n",
    "        else:\n",
    "            print('NO')"
   ]
  },
  {
   "cell_type": "code",
   "execution_count": 44,
   "metadata": {},
   "outputs": [
    {
     "name": "stdout",
     "output_type": "stream",
     "text": [
      "YES\n",
      "NO\n",
      "YES\n"
     ]
    }
   ],
   "source": [
    "isBalanced2(\"3 {[()]} {[(])} {{[[(())]]}}\")"
   ]
  },
  {
   "cell_type": "code",
   "execution_count": 45,
   "metadata": {},
   "outputs": [
    {
     "name": "stdout",
     "output_type": "stream",
     "text": [
      "YES\n",
      "NO\n",
      "NO\n",
      "YES\n"
     ]
    }
   ],
   "source": [
    "isBalanced2(\"4 [{{[(())]}}] {{{{{[}}}}} {}{(}{{}})} {{{[[[[[[[[]]]]]]]]}}}\")"
   ]
  },
  {
   "cell_type": "code",
   "execution_count": null,
   "metadata": {},
   "outputs": [],
   "source": []
  }
 ],
 "metadata": {
  "kernelspec": {
   "display_name": "Python 3",
   "language": "python",
   "name": "python3"
  },
  "language_info": {
   "codemirror_mode": {
    "name": "ipython",
    "version": 3
   },
   "file_extension": ".py",
   "mimetype": "text/x-python",
   "name": "python",
   "nbconvert_exporter": "python",
   "pygments_lexer": "ipython3",
   "version": "3.7.6"
  }
 },
 "nbformat": 4,
 "nbformat_minor": 4
}
